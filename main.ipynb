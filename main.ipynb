# Nama: Fawwaz Absyar Rifai
# Kelompok: Ultraquest

from utils import konversi_suhu

print("=====KONVERSI SUHU=====")
nilai = int(input("Masukkan nilai suhu: "))
dari = input("Dari Satuan (C/F/K): ").upper()
ke = input("Ke Satuan (C/F/K): ").upper()

output = konversi_suhu(suhu, satuan, konversi)

print(f'Hasil Konversi: {output}')
