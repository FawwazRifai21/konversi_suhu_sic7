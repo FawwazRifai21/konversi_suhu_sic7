def konversi_suhu(nilai, dari, ke):
    if dari == 'C' and ke == 'F':
        hasil = (suhu * 9/5) + 32
    elif dari == 'C' and ke == 'K':
        hasil = suhu + 273.15
    elif dari == 'F' and ke == 'C':
        hasil = (suhu - 32) * 5/9
    elif dari == 'F' and ke == 'K':
        hasil = (suhu - 32) * 5/9 + 273.15
    elif dari == 'K' and ke == 'C':
        hasil = suhu - 273.15
    elif dari == 'K' and ke == 'F':
        hasil = (suhu - 273.15) * 9/5 + 32
    else:
        hasil = suhu
    return hasil
